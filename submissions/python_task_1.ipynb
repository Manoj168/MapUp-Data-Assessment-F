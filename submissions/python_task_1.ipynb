{
 "cells": [
  {
   "cell_type": "code",
   "execution_count": 27,
   "id": "b960acb5",
   "metadata": {},
   "outputs": [],
   "source": [
    "import pandas as pd\n",
    "\n",
    "dataset1 = pd.read_csv(r\"C:\\Users\\manoj\\OneDrive\\Desktop\\MapUp-Data-Assessment-F-main\\datasets\\dataset-1.csv\")\n",
    "df = pd.DataFrame(dataset1)"
   ]
  },
  {
   "cell_type": "code",
   "execution_count": 31,
   "id": "d2610e5b",
   "metadata": {},
   "outputs": [],
   "source": [
    "import pandas as pd\n",
    "\n",
    "def generate_car_matrix(df) -> pd.DataFrame:\n",
    "    \"\"\"\n",
    "    Creates a DataFrame for id combinations.\n",
    "\n",
    "    Args:\n",
    "        df (pandas.DataFrame)\n",
    "\n",
    "    Returns:\n",
    "        pandas.DataFrame: Matrix generated with 'car' values,\n",
    "                          where 'id_1' and 'id_2' are used as indices and columns respectively\n",
    "    \"\"\"\n",
    "    df = pd.DataFrame(dataset1)\n",
    "    matrix = df.pivot(index='id_1', columns='id_2', values='car').fillna(0)\n",
    "    \n",
    "    for col in matrix.columns:\n",
    "        matrix.loc[matrix.index == col, col] = 0\n",
    "    \n",
    "    return df"
   ]
  },
  {
   "cell_type": "code",
   "execution_count": 32,
   "id": "4a88c3f1",
   "metadata": {},
   "outputs": [],
   "source": [
    "def get_type_count(df):\n",
    "    bins = [-float('inf'), 15, 25, float('inf')]\n",
    "    labels = ['low', 'medium', 'high']\n",
    "    df['car_type'] = pd.cut(df['car'], bins=bins, labels=labels)\n",
    "    return df['car_type'].value_counts().sort_index().to_dict()\n"
   ]
  },
  {
   "cell_type": "code",
   "execution_count": 33,
   "id": "09e6a631",
   "metadata": {},
   "outputs": [],
   "source": [
    "def get_bus_indexes(df):\n",
    "    mean_bus = df['bus'].mean()\n",
    "    return df[df['bus'] > 2 * mean_bus].index.tolist()\n"
   ]
  },
  {
   "cell_type": "code",
   "execution_count": 34,
   "id": "3cf05bd5",
   "metadata": {},
   "outputs": [],
   "source": [
    "def filter_routes(df):\n",
    "    avg_truck_by_route = df.groupby('route')['truck'].mean()\n",
    "    return avg_truck_by_route[avg_truck_by_route > 7].index.tolist()\n"
   ]
  },
  {
   "cell_type": "code",
   "execution_count": 35,
   "id": "eb70a782",
   "metadata": {},
   "outputs": [],
   "source": [
    "def multiply_matrix(matrix):\n",
    "    return matrix.applymap(lambda x: x * 2 if x > 10 else x)\n"
   ]
  },
  {
   "cell_type": "code",
   "execution_count": 37,
   "id": "96cceef9",
   "metadata": {},
   "outputs": [],
   "source": [
    "def time_check(df):\n",
    "    df['timestamp'] = pd.to_datetime(df['timestamp'])\n",
    "    time_diff = df.groupby(['id', 'id_2'])['timestamp'].agg(lambda x: (x.max() - x.min()).total_seconds())\n",
    "    return (time_diff >= 24 * 3600 * 7).reset_index(name='check')\n"
   ]
  },
  {
   "cell_type": "code",
   "execution_count": 43,
   "id": "06a6ae0d",
   "metadata": {},
   "outputs": [],
   "source": [
    "\n",
    "from datetime import datetime, timedelta\n",
    "\n",
    "def verify_timestamp_completeness(df):\n",
    "    \n",
    "    df['start_timestamp'] = pd.to_datetime(df['startDay'] + ' ' + df['startTime'])\n",
    "    df['end_timestamp'] = pd.to_datetime(df['endDay'] + ' ' + df['endTime'])\n",
    "\n",
    "    df['duration'] = df['end_timestamp'] - df['start_timestamp']\n",
    "\n",
    "    total_seconds_in_day = 24 * 60 * 60\n",
    "\n",
    "    df['full_day'] = df['duration'] >= timedelta(seconds=total_seconds_in_day)\n",
    "\n",
    "    df['day_of_week'] = df['start_timestamp'].dt.dayofweek\n",
    "\n",
    "    grouped = df.groupby(['id', 'id_2'])\n",
    "\n",
    "    completeness = grouped.apply(lambda x: x.groupby('day_of_week')['full_day'].count().eq(0).sum() != 7)\n",
    "    \n",
    "    return completeness\n"
   ]
  },
  {
   "cell_type": "code",
   "execution_count": null,
   "id": "fa9dd3c6",
   "metadata": {},
   "outputs": [],
   "source": []
  }
 ],
 "metadata": {
  "kernelspec": {
   "display_name": "Python 3 (ipykernel)",
   "language": "python",
   "name": "python3"
  },
  "language_info": {
   "codemirror_mode": {
    "name": "ipython",
    "version": 3
   },
   "file_extension": ".py",
   "mimetype": "text/x-python",
   "name": "python",
   "nbconvert_exporter": "python",
   "pygments_lexer": "ipython3",
   "version": "3.8.16"
  }
 },
 "nbformat": 4,
 "nbformat_minor": 5
}
