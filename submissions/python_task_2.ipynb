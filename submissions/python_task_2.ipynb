{
 "cells": [
  {
   "cell_type": "code",
   "execution_count": 6,
   "id": "f5e78abb",
   "metadata": {},
   "outputs": [],
   "source": [
    "import pandas as pd\n",
    "\n",
    "dataset2 = pd.read_csv(r\"C:\\Users\\manoj\\OneDrive\\Desktop\\MapUp-Data-Assessment-F-main\\datasets\\dataset-2.csv\")\n",
    "df = pd.DataFrame(dataset2)"
   ]
  },
  {
   "cell_type": "code",
   "execution_count": 7,
   "id": "fb14a939",
   "metadata": {},
   "outputs": [],
   "source": [
    "from sklearn.metrics.pairwise import euclidean_distances\n",
    "\n",
    "def calculate_distance_matrix(df):\n",
    "    # Assuming df contains coordinates 'latitude' and 'longitude'\n",
    "    coordinates = df[['latitude', 'longitude']].values\n",
    "    distance_matrix = euclidean_distances(coordinates, coordinates)\n",
    "    return pd.DataFrame(distance_matrix, index=df.index, columns=df.index)\n"
   ]
  },
  {
   "cell_type": "code",
   "execution_count": 8,
   "id": "22298183",
   "metadata": {},
   "outputs": [],
   "source": [
    "def unroll_distance_matrix(df):\n",
    "    unrolled_data = []\n",
    "    for i, row in df.iterrows():\n",
    "        for j, distance in row.iteritems():\n",
    "            unrolled_data.append({'id_start': i, 'id_end': j, 'distance': distance})\n",
    "    return pd.DataFrame(unrolled_data)\n"
   ]
  },
  {
   "cell_type": "code",
   "execution_count": 9,
   "id": "9c9924a8",
   "metadata": {},
   "outputs": [],
   "source": [
    "def find_ids_within_ten_percentage_threshold(df, reference_id):\n",
    "    reference_distance = df.loc[reference_id].mean()\n",
    "    threshold = 0.1 * reference_distance\n",
    "    avg_distances = df.mean(axis=1)\n",
    "    close_ids = avg_distances[(avg_distances >= (reference_distance - threshold)) & (avg_distances <= (reference_distance + threshold))]\n",
    "    return close_ids.reset_index(name='ID')\n"
   ]
  },
  {
   "cell_type": "code",
   "execution_count": 10,
   "id": "ee511751",
   "metadata": {},
   "outputs": [],
   "source": [
    "def calculate_toll_rate(df):\n",
    "    # Assuming df contains columns 'vehicle_type' and 'distance'\n",
    "    toll_rates = {'car': 0.2, 'truck': 0.5, 'bus': 0.7}  # Example toll rates\n",
    "    df['toll_rate'] = df['vehicle_type'].map(toll_rates) * df['distance']\n",
    "    return df\n"
   ]
  },
  {
   "cell_type": "code",
   "execution_count": 11,
   "id": "000e70bc",
   "metadata": {},
   "outputs": [],
   "source": [
    "def calculate_time_based_toll_rates(df):\n",
    "    # Assuming df contains columns 'time_interval' and 'distance'\n",
    "    toll_by_time = {\n",
    "        '00:00-06:00': 0.1,\n",
    "        '06:00-12:00': 0.2,\n",
    "        '12:00-18:00': 0.3,\n",
    "        '18:00-24:00': 0.25\n",
    "    }  # Example toll rates for time intervals\n",
    "    df['toll_rate'] = df['time_interval'].map(toll_by_time) * df['distance']\n",
    "    return df\n"
   ]
  },
  {
   "cell_type": "code",
   "execution_count": null,
   "id": "43232d8a",
   "metadata": {},
   "outputs": [],
   "source": []
  }
 ],
 "metadata": {
  "kernelspec": {
   "display_name": "Python 3 (ipykernel)",
   "language": "python",
   "name": "python3"
  },
  "language_info": {
   "codemirror_mode": {
    "name": "ipython",
    "version": 3
   },
   "file_extension": ".py",
   "mimetype": "text/x-python",
   "name": "python",
   "nbconvert_exporter": "python",
   "pygments_lexer": "ipython3",
   "version": "3.8.16"
  }
 },
 "nbformat": 4,
 "nbformat_minor": 5
}
